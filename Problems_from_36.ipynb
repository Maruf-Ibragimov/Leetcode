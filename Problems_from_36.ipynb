{
 "cells": [
  {
   "cell_type": "markdown",
   "source": [
    "# Header 1\n",
    "##### Header 5\n",
    "###### Header 6\n",
    "\n",
    "<b> This is a bold text </b>\n",
    "\n",
    "* This is first text\n",
    "* This is second text\n",
    "* This is third text"
   ],
   "metadata": {
    "collapsed": false
   },
   "id": "8972f13ea50d3734"
  },
  {
   "cell_type": "markdown",
   "source": [
    "# 36. Search Insert Position\n",
    "\n",
    "Given a sorted array of distinct integers and a target value, return the index if the target is found. \n",
    "If not, return the index where it would be if it were inserted in order.\n",
    "\n",
    "You must write an algorithm with O(log n) runtime complexity.\n",
    "\n",
    "<b> Example 1: </b>\n",
    "Input: nums = [1,3,5,6], target = 5\n",
    "Output: 2\n",
    "\n",
    "<b> Example 2: </b>\n",
    "Input: nums = [1,3,5,6], target = 2\n",
    "Output: 1\n",
    "\n",
    "<b> Example 3: </b>\n",
    "Input: nums = [1,3,5,6], target = 7\n",
    "Output: 4\n",
    "\n",
    "##### This problem solved on 04.02.2024"
   ],
   "metadata": {
    "collapsed": false
   },
   "id": "816f0a01c81ad685"
  },
  {
   "cell_type": "code",
   "execution_count": 1,
   "id": "initial_id",
   "metadata": {
    "collapsed": true,
    "ExecuteTime": {
     "end_time": "2024-02-04T20:00:06.404585500Z",
     "start_time": "2024-02-04T20:00:06.394597300Z"
    }
   },
   "outputs": [
    {
     "name": "stdout",
     "output_type": "stream",
     "text": [
      "3\n"
     ]
    }
   ],
   "source": [
    "def search_insert(nums: list, target: int):\n",
    "    left = 0\n",
    "    right = len(nums) - 1\n",
    "    while left <= right:\n",
    "        mid = (left + right) // 2\n",
    "        \n",
    "        # If target is present at mid, returns the mid\n",
    "        if target == nums[mid]:\n",
    "            return mid\n",
    "            \n",
    "        # If target is greater, ignore left half\n",
    "        if target > nums[mid]:\n",
    "            left = mid + 1\n",
    "            \n",
    "        # If target is smaller, ignore right half\n",
    "        else:\n",
    "            right = mid - 1\n",
    "    \n",
    "    # If we reach here, then the element should be at index which is located left\n",
    "    return left\n",
    "\n",
    "\n",
    "print(search_insert(nums=[1, 3, 5, 6], target=6))"
   ]
  },
  {
   "cell_type": "markdown",
   "source": [
    "# 58. Length of Last Word\n",
    "\n",
    "Given a string s consisting of words and spaces, return the length of the last word in the string.\n",
    "A word is a maximal substring consisting of non-space characters only.\n",
    "\n",
    "##### Example 1:\n",
    "Input: s = \"Hello World\"\n",
    "Output: 5\n",
    "Explanation: The last word is \"World\" with length 5.\n",
    "\n",
    "##### Example 2:\n",
    "Input: s = \"   fly me   to   the moon  \"\n",
    "Output: 4\n",
    "Explanation: The last word is \"moon\" with length 4.\n",
    "\n",
    "##### Example 3:\n",
    "Input: s = \"luffy is still joyboy\"\n",
    "Output: 6\n",
    "Explanation: The last word is \"joyboy\" with length 6."
   ],
   "metadata": {
    "collapsed": false
   },
   "id": "7a0b78503598f4d0"
  },
  {
   "cell_type": "code",
   "outputs": [],
   "source": [
    "def length_of_lw(s: str):\n",
    "    "
   ],
   "metadata": {
    "collapsed": false,
    "ExecuteTime": {
     "end_time": "2024-02-04T19:31:39.348194200Z",
     "start_time": "2024-02-04T19:31:39.335236800Z"
    }
   },
   "id": "789f3e31072fb991",
   "execution_count": 19
  },
  {
   "cell_type": "code",
   "outputs": [],
   "source": [],
   "metadata": {
    "collapsed": false
   },
   "id": "10b5dced3c4894c5"
  }
 ],
 "metadata": {
  "kernelspec": {
   "display_name": "Python 3",
   "language": "python",
   "name": "python3"
  },
  "language_info": {
   "codemirror_mode": {
    "name": "ipython",
    "version": 2
   },
   "file_extension": ".py",
   "mimetype": "text/x-python",
   "name": "python",
   "nbconvert_exporter": "python",
   "pygments_lexer": "ipython2",
   "version": "2.7.6"
  }
 },
 "nbformat": 4,
 "nbformat_minor": 5
}
