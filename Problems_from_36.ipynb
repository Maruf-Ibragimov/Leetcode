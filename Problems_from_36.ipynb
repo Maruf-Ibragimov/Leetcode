{
 "cells": [
  {
   "cell_type": "markdown",
   "source": [
    "# Header 1\n",
    "##### Header 5\n",
    "###### Header 6\n",
    "\n",
    "<b> This is a bold text </b>\n",
    "\n",
    "* This is first text\n",
    "* This is second text\n",
    "* This is third text"
   ],
   "metadata": {
    "collapsed": false
   },
   "id": "8972f13ea50d3734"
  },
  {
   "cell_type": "markdown",
   "source": [
    "# 36. Search Insert Position\n",
    "\n",
    "Given a sorted array of distinct integers and a target value, return the index if the target is found. \n",
    "If not, return the index where it would be if it were inserted in order.\n",
    "\n",
    "You must write an algorithm with O(log n) runtime complexity.\n",
    "\n",
    "<b> Example 1: </b>\n",
    "Input: nums = [1,3,5,6], target = 5\n",
    "Output: 2\n",
    "\n",
    "<b> Example 2: </b>\n",
    "Input: nums = [1,3,5,6], target = 2\n",
    "Output: 1\n",
    "\n",
    "<b> Example 3: </b>\n",
    "Input: nums = [1,3,5,6], target = 7\n",
    "Output: 4\n",
    "\n",
    "##### This problem solved on 04.02.2024"
   ],
   "metadata": {
    "collapsed": false
   },
   "id": "816f0a01c81ad685"
  },
  {
   "cell_type": "code",
   "execution_count": 29,
   "id": "initial_id",
   "metadata": {
    "collapsed": true,
    "ExecuteTime": {
     "end_time": "2024-02-05T18:52:19.239564600Z",
     "start_time": "2024-02-05T18:52:19.227605200Z"
    }
   },
   "outputs": [
    {
     "name": "stdout",
     "output_type": "stream",
     "text": [
      "3\n"
     ]
    }
   ],
   "source": [
    "def search_insert(nums: list, target: int):\n",
    "    left = 0\n",
    "    right = len(nums) - 1\n",
    "    while left <= right:\n",
    "        mid = (left + right) // 2\n",
    "\n",
    "        # If target is present at mid, returns the mid\n",
    "        if target == nums[mid]:\n",
    "            return mid\n",
    "\n",
    "        # If target is greater, ignore left half\n",
    "        if target > nums[mid]:\n",
    "            left = mid + 1\n",
    "\n",
    "        # If target is smaller, ignore right half\n",
    "        else:\n",
    "            right = mid - 1\n",
    "\n",
    "    # If we reach here, then the element should be at index which is located left\n",
    "    return left\n",
    "\n",
    "\n",
    "print(search_insert(nums=[1, 3, 5, 6], target=6))"
   ]
  },
  {
   "cell_type": "markdown",
   "source": [
    "# 58. Length of Last Word\n",
    "\n",
    "Given a string s consisting of words and spaces, return the length of the last word in the string.\n",
    "A word is a maximal substring consisting of non-space characters only.\n",
    "\n",
    "##### Example 1:\n",
    "Input: s = \"Hello World\"\n",
    "Output: 5\n",
    "Explanation: The last word is \"World\" with length 5.\n",
    "\n",
    "##### Example 2:\n",
    "Input: s = \"   fly me   to   the moon  \"\n",
    "Output: 4\n",
    "Explanation: The last word is \"moon\" with length 4.\n",
    "\n",
    "##### Example 3:\n",
    "Input: s = \"luffy is still joyboy\"\n",
    "Output: 6\n",
    "Explanation: The last word is \"joyboy\" with length 6.\n",
    "\n",
    "##### This problem solved on 05.02.2024"
   ],
   "metadata": {
    "collapsed": false
   },
   "id": "7a0b78503598f4d0"
  },
  {
   "cell_type": "code",
   "outputs": [
    {
     "name": "stdout",
     "output_type": "stream",
     "text": [
      "moon\n",
      "4\n"
     ]
    }
   ],
   "source": [
    "# # This is my Solution\n",
    "# def length_of_lw(s: str):\n",
    "#     letters = []\n",
    "#     for i in range(len(s) - 1, -1, -1):\n",
    "#         if s[i] != \" \":\n",
    "#             letters.append(s[i])\n",
    "#         else:\n",
    "#             break\n",
    "# \n",
    "#     return len(letters)\n",
    "# \n",
    "# \n",
    "# print(length_of_lw(\"Hello World \"))\n",
    "# \n",
    "# \n",
    "# # There is a solution from YouTube\n",
    "# def l_of_lw(s: str):\n",
    "#     i, length = len(s) - 1, 0\n",
    "#     while s[i] == \" \":\n",
    "#         i -= 1\n",
    "#     while i >= 0 and s[i] != \" \":\n",
    "#         length += 1\n",
    "#         i -= 1\n",
    "#     return length\n",
    "# \n",
    "# \n",
    "# print(l_of_lw(\"Hello World \"))\n",
    "\n",
    "\n",
    "# There is a solution from ChatGPT. It's better than others!!!\n",
    "def length_of_last_word(s):\n",
    "    # Split the string into words\n",
    "    words = s.split()\n",
    "    print(words[-1])\n",
    "\n",
    "    # Check if there are any words in the string\n",
    "    if len(words) == 0:\n",
    "        return 0\n",
    "\n",
    "    # Return the length of the last word\n",
    "    return len(words[-1])\n",
    "    \n",
    "print(length_of_last_word(\" fly me to the  moon  \"))"
   ],
   "metadata": {
    "collapsed": false,
    "ExecuteTime": {
     "end_time": "2024-02-05T19:00:33.176745600Z",
     "start_time": "2024-02-05T19:00:33.169769600Z"
    }
   },
   "id": "789f3e31072fb991",
   "execution_count": 36
  },
  {
   "cell_type": "code",
   "outputs": [],
   "source": [],
   "metadata": {
    "collapsed": false,
    "ExecuteTime": {
     "end_time": "2024-02-05T18:52:20.266249300Z",
     "start_time": "2024-02-05T18:52:20.255284900Z"
    }
   },
   "id": "10b5dced3c4894c5",
   "execution_count": 30
  },
  {
   "cell_type": "code",
   "outputs": [],
   "source": [],
   "metadata": {
    "collapsed": false
   },
   "id": "129a6dda54996e13"
  }
 ],
 "metadata": {
  "kernelspec": {
   "display_name": "Python 3",
   "language": "python",
   "name": "python3"
  },
  "language_info": {
   "codemirror_mode": {
    "name": "ipython",
    "version": 2
   },
   "file_extension": ".py",
   "mimetype": "text/x-python",
   "name": "python",
   "nbconvert_exporter": "python",
   "pygments_lexer": "ipython2",
   "version": "2.7.6"
  }
 },
 "nbformat": 4,
 "nbformat_minor": 5
}
