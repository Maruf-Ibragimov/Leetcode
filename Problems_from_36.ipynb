{
 "cells": [
  {
   "cell_type": "markdown",
   "source": [
    "# 36. Search Insert Position\n",
    "\n",
    "Given a sorted array of distinct integers and a target value, return the index if the target is found. \n",
    "If not, return the index where it would be if it were inserted in order.\n",
    "\n",
    "You must write an algorithm with O(log n) runtime complexity.\n",
    "\n",
    "Example 1:\n",
    "Input: nums = [1,3,5,6], target = 5\n",
    "Output: 2\n",
    "\n",
    "Example 2:\n",
    "Input: nums = [1,3,5,6], target = 2\n",
    "Output: 1\n",
    "\n",
    "Example 3:\n",
    "Input: nums = [1,3,5,6], target = 7\n",
    "Output: 4"
   ],
   "metadata": {
    "collapsed": false
   },
   "id": "816f0a01c81ad685"
  },
  {
   "cell_type": "code",
   "execution_count": 18,
   "id": "initial_id",
   "metadata": {
    "collapsed": true,
    "ExecuteTime": {
     "end_time": "2024-02-04T18:46:08.174623100Z",
     "start_time": "2024-02-04T18:46:08.164451300Z"
    }
   },
   "outputs": [
    {
     "name": "stdout",
     "output_type": "stream",
     "text": [
      "3\n"
     ]
    }
   ],
   "source": [
    "def search_insert(nums: list, target: int):\n",
    "    left = 0\n",
    "    right = len(nums) - 1\n",
    "    while left <= right:\n",
    "        mid = (left + right) // 2\n",
    "        \n",
    "        # If target is present at mid, returns the mid\n",
    "        if target == nums[mid]:\n",
    "            return mid\n",
    "            \n",
    "        # If target is greater, ignore left half\n",
    "        if target > nums[mid]:\n",
    "            left = mid + 1\n",
    "            \n",
    "        # If target is smaller, ignore right half\n",
    "        else:\n",
    "            right = mid - 1\n",
    "    \n",
    "    # If we reach here, then the element should be at index which is located left\n",
    "    return left\n",
    "\n",
    "\n",
    "print(search_insert(nums=[1, 3, 5, 6], target=6))"
   ]
  },
  {
   "cell_type": "code",
   "outputs": [],
   "source": [],
   "metadata": {
    "collapsed": false
   },
   "id": "789f3e31072fb991"
  }
 ],
 "metadata": {
  "kernelspec": {
   "display_name": "Python 3",
   "language": "python",
   "name": "python3"
  },
  "language_info": {
   "codemirror_mode": {
    "name": "ipython",
    "version": 2
   },
   "file_extension": ".py",
   "mimetype": "text/x-python",
   "name": "python",
   "nbconvert_exporter": "python",
   "pygments_lexer": "ipython2",
   "version": "2.7.6"
  }
 },
 "nbformat": 4,
 "nbformat_minor": 5
}
