{
 "cells": [
  {
   "cell_type": "markdown",
   "source": [
    "# Header 1\n",
    "##### Header 5\n",
    "###### Header 6\n",
    "\n",
    "<b> This is a bold text </b>\n",
    "\n",
    "* This is first text\n",
    "* This is second text\n",
    "* This is third text"
   ],
   "metadata": {
    "collapsed": false
   },
   "id": "8972f13ea50d3734"
  },
  {
   "cell_type": "markdown",
   "source": [
    "# 36. Search Insert Position\n",
    "\n",
    "Given a sorted array of distinct integers and a target value, return the index if the target is found. \n",
    "If not, return the index where it would be if it were inserted in order.\n",
    "\n",
    "You must write an algorithm with O(log n) runtime complexity.\n",
    "\n",
    "<b> Example 1: </b>\n",
    "Input: nums = [1,3,5,6], target = 5\n",
    "Output: 2\n",
    "\n",
    "<b> Example 2: </b>\n",
    "Input: nums = [1,3,5,6], target = 2\n",
    "Output: 1\n",
    "\n",
    "<b> Example 3: </b>\n",
    "Input: nums = [1,3,5,6], target = 7\n",
    "Output: 4\n",
    "\n",
    "##### This problem solved on 04.02.2024"
   ],
   "metadata": {
    "collapsed": false
   },
   "id": "816f0a01c81ad685"
  },
  {
   "cell_type": "code",
   "execution_count": 29,
   "id": "initial_id",
   "metadata": {
    "collapsed": true,
    "ExecuteTime": {
     "end_time": "2024-02-05T18:52:19.239564600Z",
     "start_time": "2024-02-05T18:52:19.227605200Z"
    }
   },
   "outputs": [
    {
     "name": "stdout",
     "output_type": "stream",
     "text": [
      "3\n"
     ]
    }
   ],
   "source": [
    "def search_insert(nums: list, target: int):\n",
    "    left = 0\n",
    "    right = len(nums) - 1\n",
    "    while left <= right:\n",
    "        mid = (left + right) // 2\n",
    "\n",
    "        # If target is present at mid, returns the mid\n",
    "        if target == nums[mid]:\n",
    "            return mid\n",
    "\n",
    "        # If target is greater, ignore left half\n",
    "        if target > nums[mid]:\n",
    "            left = mid + 1\n",
    "\n",
    "        # If target is smaller, ignore right half\n",
    "        else:\n",
    "            right = mid - 1\n",
    "\n",
    "    # If we reach here, then the element should be at index which is located left\n",
    "    return left\n",
    "\n",
    "\n",
    "print(search_insert(nums=[1, 3, 5, 6], target=6))"
   ]
  },
  {
   "cell_type": "markdown",
   "source": [
    "# 58. Length of Last Word\n",
    "\n",
    "Given a string s consisting of words and spaces, return the length of the last word in the string.\n",
    "A word is a maximal substring consisting of non-space characters only.\n",
    "\n",
    "##### Example 1:\n",
    "Input: s = \"Hello World\"\n",
    "Output: 5\n",
    "Explanation: The last word is \"World\" with length 5.\n",
    "\n",
    "##### Example 2:\n",
    "Input: s = \"   fly me   to   the moon  \"\n",
    "Output: 4\n",
    "Explanation: The last word is \"moon\" with length 4.\n",
    "\n",
    "##### Example 3:\n",
    "Input: s = \"luffy is still joyboy\"\n",
    "Output: 6\n",
    "Explanation: The last word is \"joyboy\" with length 6.\n",
    "\n",
    "##### This problem solved on 05.02.2024"
   ],
   "metadata": {
    "collapsed": false
   },
   "id": "7a0b78503598f4d0"
  },
  {
   "cell_type": "code",
   "outputs": [
    {
     "name": "stdout",
     "output_type": "stream",
     "text": [
      "moon\n",
      "4\n"
     ]
    }
   ],
   "source": [
    "# # This is my Solution\n",
    "# def length_of_lw(s: str):\n",
    "#     letters = []\n",
    "#     for i in range(len(s) - 1, -1, -1):\n",
    "#         if s[i] != \" \":\n",
    "#             letters.append(s[i])\n",
    "#         else:\n",
    "#             break\n",
    "# \n",
    "#     return len(letters)\n",
    "# \n",
    "# \n",
    "# print(length_of_lw(\"Hello World \"))\n",
    "# \n",
    "# \n",
    "# # There is a solution from YouTube\n",
    "# def l_of_lw(s: str):\n",
    "#     i, length = len(s) - 1, 0\n",
    "#     while s[i] == \" \":\n",
    "#         i -= 1\n",
    "#     while i >= 0 and s[i] != \" \":\n",
    "#         length += 1\n",
    "#         i -= 1\n",
    "#     return length\n",
    "# \n",
    "# \n",
    "# print(l_of_lw(\"Hello World \"))\n",
    "\n",
    "\n",
    "# There is a solution from ChatGPT. It's better than others!!!\n",
    "def length_of_last_word(s):\n",
    "    # Split the string into words\n",
    "    words = s.split()\n",
    "\n",
    "    # Check if there are any words in the string\n",
    "    if len(words) == 0:\n",
    "        return 0\n",
    "\n",
    "    # Return the length of the last word\n",
    "    return len(words[-1])\n",
    "\n",
    "\n",
    "print(length_of_last_word(\" fly me to the  moon  \"))"
   ],
   "metadata": {
    "collapsed": false,
    "ExecuteTime": {
     "end_time": "2024-02-05T19:00:33.176745600Z",
     "start_time": "2024-02-05T19:00:33.169769600Z"
    }
   },
   "id": "789f3e31072fb991",
   "execution_count": 36
  },
  {
   "cell_type": "markdown",
   "source": [
    "# 66. Plus One\n",
    "\n",
    "You are given a large integer represented as an integer array digits, where each digits[i] is the ith digit of the integer. \n",
    "The digits are ordered from most significant to least significant in left-to-right order. The large integer does not contain any leading 0's.\n",
    "\n",
    "Increment the large integer by one and return the resulting array of digits.\n",
    "\n",
    "##### Example 1:\n",
    "Input: digits = [1,2,3]\n",
    "Output: [1,2,4]\n",
    "Explanation: The array represents the integer 123.\n",
    "Incrementing by one gives 123 + 1 = 124.\n",
    "Thus, the result should be [1,2,4].\n",
    "\n",
    "##### Example 2:\n",
    "Input: digits = [4,3,2,1]\n",
    "Output: [4,3,2,2]\n",
    "Explanation: The array represents the integer 4321.\n",
    "Incrementing by one gives 4321 + 1 = 4322.\n",
    "Thus, the result should be [4,3,2,2].\n",
    "\n",
    "##### Example 3:\n",
    "Input: digits = [9]\n",
    "Output: [1,0]\n",
    "Explanation: The array represents the integer 9.\n",
    "Incrementing by one gives 9 + 1 = 10.\n",
    "Thus, the result should be [1,0].\n",
    "\n",
    "##### This problem solved on 02.08.2024"
   ],
   "metadata": {
    "collapsed": false
   },
   "id": "2b87a00d241cc2e8"
  },
  {
   "cell_type": "code",
   "outputs": [
    {
     "name": "stdout",
     "output_type": "stream",
     "text": [
      "[1, 2, 4]\n",
      "[1, 0, 0, 0]\n"
     ]
    }
   ],
   "source": [
    "# My Solution\n",
    "def plus_one(digits: list):\n",
    "    n = digits[-1]\n",
    "    if n <= 9:\n",
    "        n += 1\n",
    "    digits[-1] = n\n",
    "    if digits[-1] == 10:\n",
    "        digits[-2] += 1\n",
    "        digits[-1] = 0\n",
    "    return digits\n",
    "\n",
    "\n",
    "print(plus_one(digits=[1, 2, 3]))\n",
    "\n",
    "\n",
    "# Solution from ChatGPT\n",
    "def plus(digits: list):\n",
    "    for i in range(len(digits) - 1, -1, -1):\n",
    "        digits[i] += 1\n",
    "\n",
    "        if digits[i] < 10:\n",
    "            break\n",
    "        else:\n",
    "            digits[i] = 0\n",
    "\n",
    "    if digits[0] == 0:\n",
    "        digits.insert(0, 1)\n",
    "\n",
    "    return digits\n",
    "\n",
    "\n",
    "print(plus(digits=[9, 9, 9]))"
   ],
   "metadata": {
    "collapsed": false,
    "ExecuteTime": {
     "end_time": "2024-02-08T17:32:26.530280400Z",
     "start_time": "2024-02-08T17:32:26.503055300Z"
    }
   },
   "id": "10b5dced3c4894c5",
   "execution_count": 25
  },
  {
   "cell_type": "markdown",
   "source": [
    "# 67. Add Binary\n",
    "\n",
    "Given two binary strings a and b, return their sum as a binary string.\n",
    "\n",
    "##### Example 1:\n",
    "Input: a = \"11\", b = \"1\"\n",
    "Output: \"100\"\n",
    "\n",
    "##### Example 2:\n",
    "Input: a = \"1010\", b = \"1011\"\n",
    "Output: \"10101\"\n",
    "\n",
    "##### This problem solved on 09.02.2024"
   ],
   "metadata": {
    "collapsed": false
   },
   "id": "45beb0b602cc5c0a"
  },
  {
   "cell_type": "code",
   "outputs": [
    {
     "name": "stdout",
     "output_type": "stream",
     "text": [
      "10101\n"
     ]
    }
   ],
   "source": [
    "def add_binary(a: str, b: str):\n",
    "    res = \"\"\n",
    "    carry = 0\n",
    "    a, b = a[::-1], b[::-1]\n",
    "\n",
    "    for i in range(max(len(a), len(b))):\n",
    "        digitA = ord(a[i]) - ord(\"0\") if i < len(a) else 0\n",
    "        digitB = ord(b[i]) - ord(\"0\") if i < len(b) else 0\n",
    "\n",
    "        total = digitA + digitB + carry\n",
    "        char = str(total % 2)\n",
    "        res += char\n",
    "        carry = total // 2\n",
    "\n",
    "    if carry:  # It means that carry is not empty or is not equal to zero.\n",
    "        res += \"1\"\n",
    "    return res[::-1]\n",
    "\n",
    "\n",
    "print(add_binary(a=\"1010\", b=\"1011\"))"
   ],
   "metadata": {
    "collapsed": false,
    "ExecuteTime": {
     "end_time": "2024-02-09T20:24:16.799463500Z",
     "start_time": "2024-02-09T20:24:16.779464100Z"
    }
   },
   "id": "129a6dda54996e13",
   "execution_count": 10
  },
  {
   "cell_type": "markdown",
   "source": [
    "# 69. Sqrt(x)\n",
    "\n",
    "Given a non-negative integer x, return the square root of x rounded down to the nearest integer. The returned integer should be non-negative as well.\n",
    "\n",
    "You must not use any built-in exponent function or operator.\n",
    "\n",
    "For example, do not use pow(x, 0.5) in c++ or x ** 0.5 in python.\n",
    "\n",
    "##### Example 1:\n",
    "Input: x = 4\n",
    "Output: 2\n",
    "Explanation: The square root of 4 is 2, so we return 2.\n",
    "\n",
    "##### Example 2:\n",
    "Input: x = 8\n",
    "Output: 2\n",
    "Explanation: The square root of 8 is 2.82842..., and since we round it down to the nearest integer, 2 is returned.\n",
    "\n",
    "##### This problem solved on 10.02.2024"
   ],
   "metadata": {
    "collapsed": false
   },
   "id": "e0307047fb4fe244"
  },
  {
   "cell_type": "code",
   "outputs": [
    {
     "name": "stdout",
     "output_type": "stream",
     "text": [
      "2\n"
     ]
    }
   ],
   "source": [
    "def my_sqrt(x: int):\n",
    "    l, r = 0, x\n",
    "    res = 0\n",
    "    \n",
    "    while l <= r:\n",
    "        m = l + ((r - l) // 2)\n",
    "        if m ** 2 > x:\n",
    "            r = m - 1\n",
    "        elif m ** 2 < x:\n",
    "            l = m + 1\n",
    "            res = m\n",
    "        else:\n",
    "            return m\n",
    "    return res\n",
    "\n",
    "\n",
    "print(my_sqrt(8))"
   ],
   "metadata": {
    "collapsed": false,
    "ExecuteTime": {
     "end_time": "2024-02-10T19:25:37.936504Z",
     "start_time": "2024-02-10T19:25:37.903420600Z"
    }
   },
   "id": "ec7f03c66799cbd3",
   "execution_count": 12
  },
  {
   "cell_type": "markdown",
   "source": [
    "# 70. Climbing Stairs\n",
    "\n",
    "You are climbing a staircase. It takes n steps to reach the top.\n",
    "\n",
    "Each time you can either climb 1 or 2 steps. In how many distinct ways can you climb to the top?\n",
    "\n",
    "##### Example 1:\n",
    "Input: n = 2\n",
    "Output: 2\n",
    "Explanation: There are two ways to climb to the top.\n",
    "1. 1 step + 1 step\n",
    "2. 2 steps\n",
    "\n",
    "##### Example 2:\n",
    "Input: n = 3\n",
    "Output: 3\n",
    "Explanation: There are three ways to climb to the top.\n",
    "1. 1 step + 1 step + 1 step\n",
    "2. 1 step + 2 steps\n",
    "3. 2 steps + 1 step"
   ],
   "metadata": {
    "collapsed": false
   },
   "id": "df85ecc3cdae1ae2"
  },
  {
   "cell_type": "code",
   "outputs": [],
   "source": [],
   "metadata": {
    "collapsed": false
   },
   "id": "571fe5e4cf51b8f1"
  }
 ],
 "metadata": {
  "kernelspec": {
   "display_name": "Python 3",
   "language": "python",
   "name": "python3"
  },
  "language_info": {
   "codemirror_mode": {
    "name": "ipython",
    "version": 2
   },
   "file_extension": ".py",
   "mimetype": "text/x-python",
   "name": "python",
   "nbconvert_exporter": "python",
   "pygments_lexer": "ipython2",
   "version": "2.7.6"
  }
 },
 "nbformat": 4,
 "nbformat_minor": 5
}
